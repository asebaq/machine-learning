{
 "cells": [
  {
   "cell_type": "markdown",
   "metadata": {},
   "source": [
    "# Regression Intro"
   ]
  },
  {
   "cell_type": "code",
   "execution_count": 1,
   "metadata": {},
   "outputs": [
    {
     "name": "stdout",
     "output_type": "stream",
     "text": [
      "            Adj. Close    HL_PCT  PCT_change  Adj. Volume\n",
      "Date                                                     \n",
      "2004-08-19   50.322842  8.072956    0.324968   44659000.0\n",
      "2004-08-20   54.322689  7.921706    7.227007   22834300.0\n",
      "2004-08-23   54.869377  4.049360   -1.227880   18256100.0\n",
      "2004-08-24   52.597363  7.657099   -5.726357   15247300.0\n",
      "2004-08-25   53.164113  3.886792    1.183658    9188600.0\n"
     ]
    }
   ],
   "source": [
    "import pandas as pd\n",
    "import quandl, math, datetime\n",
    "import numpy as np \n",
    "from sklearn import preprocessing, svm\n",
    "from sklearn.linear_model import LinearRegression\n",
    "from sklearn import model_selection\n",
    "import matplotlib.pyplot as plt\n",
    "from matplotlib import style\n",
    "import pickle\n",
    "\n",
    "style.use('ggplot')\n",
    "\n",
    "df = quandl.get('WIKI/GOOGL')\n",
    "df = df[['Adj. Open', 'Adj. High', 'Adj. Low', 'Adj. Close', 'Adj. Volume']]\n",
    "\n",
    "df['HL_PCT'] = (df['Adj. High'] - df['Adj. Low']) / df['Adj. Close'] * 100.0\n",
    "df['PCT_change'] = (df['Adj. Close'] - df['Adj. Open']) / df['Adj. Open'] * 100.0\n",
    "\n",
    "df = df[['Adj. Close', 'HL_PCT', 'PCT_change', 'Adj. Volume']]\n",
    "print(df.head())"
   ]
  },
  {
   "cell_type": "code",
   "execution_count": 2,
   "metadata": {},
   "outputs": [
    {
     "name": "stdout",
     "output_type": "stream",
     "text": [
      "            Adj. Close    HL_PCT  PCT_change  Adj. Volume       label\n",
      "Date                                                                 \n",
      "2004-08-19   50.322842  8.072956    0.324968   44659000.0  214.005615\n",
      "2004-08-20   54.322689  7.921706    7.227007   22834300.0  210.725489\n",
      "2004-08-23   54.869377  4.049360   -1.227880   18256100.0  208.072299\n",
      "2004-08-24   52.597363  7.657099   -5.726357   15247300.0  218.288837\n",
      "2004-08-25   53.164113  3.886792    1.183658    9188600.0  223.309335\n"
     ]
    }
   ],
   "source": [
    "forecast_col = 'Adj. Close'\n",
    "df.fillna(-99999, inplace=True)\n",
    "\n",
    "forecast_out = int(math.ceil(0.1*len(df)))\n",
    "\n",
    "df['label'] = df[forecast_col].shift(-forecast_out)\n",
    "print(df.head())"
   ]
  },
  {
   "cell_type": "code",
   "execution_count": 3,
   "metadata": {},
   "outputs": [
    {
     "name": "stdout",
     "output_type": "stream",
     "text": [
      "3081 3081\n"
     ]
    }
   ],
   "source": [
    "X = np.array(df.drop(['label'], 1))\n",
    "\n",
    "X = preprocessing.scale(X)\n",
    "X_lately = X[-forecast_out:]\n",
    "X = X[:-forecast_out]\n",
    "\n",
    "df.dropna(inplace=True)\n",
    "y = np.array(df['label'])\n",
    "\n",
    "print(len(X), len(y))"
   ]
  },
  {
   "cell_type": "code",
   "execution_count": 4,
   "metadata": {},
   "outputs": [
    {
     "name": "stdout",
     "output_type": "stream",
     "text": [
      "0.8871170619836852\n"
     ]
    }
   ],
   "source": [
    "X_train, X_test,  y_train, y_test = model_selection.train_test_split(X, y, test_size=0.2)\n",
    "\n",
    "# using linear regression classifier\n",
    "clf = LinearRegression()\n",
    "#clf = LinearRegression(n_jobs=-1)\n",
    "clf.fit(X_train, y_train)\n",
    "accuracy = clf.score(X_test, y_test)\n",
    "\n",
    "print(accuracy)"
   ]
  },
  {
   "cell_type": "code",
   "execution_count": 5,
   "metadata": {},
   "outputs": [
    {
     "name": "stdout",
     "output_type": "stream",
     "text": [
      "0.8871170619836852\n"
     ]
    }
   ],
   "source": [
    "# using support vector machine classifier\n",
    "\n",
    "#clf = svm.SVR()\n",
    "#clf = svm.SVR(kernel='poly')\n",
    "clf.fit(X_train, y_train)\n",
    "accuracy = clf.score(X_test, y_test)\n",
    "\n",
    "print(accuracy)"
   ]
  },
  {
   "cell_type": "code",
   "execution_count": 6,
   "metadata": {},
   "outputs": [],
   "source": [
    "with open('linearregression.pickle', 'wb') as f:\n",
    "    pickle.dump(clf, f)\n",
    "\n",
    "pickle_in = open('linearregression.pickle', 'rb')\n",
    "clf = pickle.load(pickle_in)"
   ]
  },
  {
   "cell_type": "code",
   "execution_count": 7,
   "metadata": {},
   "outputs": [
    {
     "name": "stdout",
     "output_type": "stream",
     "text": [
      "[ 967.86260682  959.89179321  976.26352196  984.84422438  985.58739537\n",
      "  978.45916455  985.00834149  984.8928165   983.54351873  975.05461177\n",
      "  995.53459372  991.33925112  980.00049143  971.60275731  960.87237595\n",
      "  979.43232063  975.43622497 1000.33880429  998.37970516 1016.66052948\n",
      " 1010.32758101 1023.81111598 1026.48713689 1023.21021161 1015.03395247\n",
      " 1020.65238612 1018.51635857 1018.8804834  1011.38937821 1010.1236116\n",
      " 1016.38416368 1009.77609555 1005.30471578  996.71710406 1017.04301308\n",
      " 1012.27911081 1017.90930339 1040.69984284 1036.00239918 1032.5340664\n",
      " 1039.15923675 1039.45200113 1037.60431385 1034.63292232 1035.98026802\n",
      " 1032.88150845 1033.70946808 1063.37837429 1063.72815697 1074.69398791\n",
      " 1071.94659246 1068.75943745 1035.55912632 1027.48853678 1022.61144214\n",
      " 1027.99089138 1025.29337374 1028.58463472 1038.21942786 1039.67268695\n",
      " 1036.85308405 1043.66607715 1047.87841262 1049.67145232 1045.74191222\n",
      " 1052.18414758 1058.64065138 1060.81154918 1064.69509196 1066.48892707\n",
      " 1058.66986329 1063.35463451 1056.63859586 1072.39146098 1063.03410394\n",
      " 1061.18285292 1060.29067482 1065.24996347 1066.45518777 1073.40042466\n",
      " 1076.46303646 1080.48537665 1083.1134112  1086.76805349 1086.19926504\n",
      " 1089.02625655 1083.52373835 1076.59648888 1063.57125854 1049.28966546\n",
      " 1050.00004623 1056.76497182 1056.13320225 1065.34683863 1060.90818089\n",
      " 1057.68544041 1074.38392064 1064.7940968  1065.69027357 1058.46137273\n",
      " 1054.40170961 1051.87042124 1053.05650359 1051.73602915 1049.86875207\n",
      " 1076.12499846 1067.39685718 1070.72705542 1074.87540931 1072.00944985\n",
      " 1103.99930501 1115.02607821 1111.75558815 1112.89448925 1156.64202526\n",
      " 1170.5564585  1173.92902263 1190.40788265 1195.3487893  1188.81573435\n",
      " 1201.88051856 1194.89959036 1192.50438892 1195.96717533 1192.06231687\n",
      " 1200.12709681 1203.77365702 1185.5605913  1191.25845699 1192.68427269\n",
      " 1205.04038419 1213.90178347 1220.54210077 1245.84752189 1241.21375026\n",
      " 1243.02136688 1239.54107043 1237.28576695 1245.09772604 1256.80869701\n",
      " 1248.69425725 1251.17391706 1254.72615996 1240.86229019 1216.05944114\n",
      " 1217.59137512 1217.8880462  1208.19033837 1199.10230555 1220.69753514\n",
      " 1213.9065566  1224.8161275  1219.93582624 1235.04587821 1225.19696215\n",
      " 1192.33850446 1213.76017174 1180.41273283 1166.35549066 1157.01101687\n",
      " 1172.09250149 1165.3758673  1181.01099116 1191.00052972 1192.85329016\n",
      " 1212.34453177 1214.4025074  1220.42888628 1222.28108587 1241.00214243\n",
      " 1240.56137004 1243.49558065 1243.5986471  1250.95216912 1209.73655415\n",
      " 1209.24670072 1205.53557743 1203.60444422 1188.7957509  1184.1711329\n",
      " 1189.94802074 1177.15348674 1181.99599869 1179.90984186 1181.40005267\n",
      " 1176.32845222 1157.80393609 1165.6528021  1172.60427729 1171.50593554\n",
      " 1181.59680189 1164.9744121  1157.38082476 1152.31147743 1181.21633128\n",
      " 1180.03974385 1176.5564547  1164.96123844 1160.89837094 1178.48212448\n",
      " 1182.643209   1195.78960667 1189.82775985 1182.20405832 1180.08538904\n",
      " 1191.16370177 1178.67077396 1181.54278077 1185.05970317 1188.22006911\n",
      " 1175.97444909 1170.11533862 1164.49225924 1173.64007331 1187.241643\n",
      " 1188.21755952 1180.01463195 1172.53534949 1172.10031197 1210.37751794\n",
      " 1207.69456403 1217.50930589 1214.1143825  1216.17136204 1208.82628595\n",
      " 1236.72469274 1246.95921139 1240.33929623 1239.90254867 1264.30072733\n",
      " 1257.63823265 1258.58813424 1262.64163139 1263.49427883 1267.03847368\n",
      " 1252.33421778 1253.90710171 1240.82791808 1237.78519313 1244.82440008\n",
      " 1243.46523733 1306.61295431 1295.76378954 1294.39398188 1305.17120095\n",
      " 1308.45501337 1314.49742583 1303.92437567 1315.70581455 1312.42860907\n",
      " 1302.36743999 1301.5165139  1304.45959221 1295.21773753 1313.44672521\n",
      " 1299.47781496 1291.0782112  1314.08394664 1314.11453916 1319.72294287\n",
      " 1344.99162525 1338.36824892 1307.77009009 1297.00403544 1287.92794302\n",
      " 1272.5879667  1291.2445483  1301.14181533 1308.14496325 1311.70919892\n",
      " 1316.28163273 1315.54245933 1313.24059548 1323.73649918 1341.38292021\n",
      " 1359.80200919 1350.88510469 1342.89601252 1337.13440761 1332.18593639\n",
      " 1332.42051268 1324.99554761 1320.83630587 1313.52543118 1349.90538308\n",
      " 1372.15390395 1368.82827885 1388.07145338 1391.51092626 1390.01237038\n",
      " 1386.36427551 1388.07417238 1420.38142059 1419.10895949 1426.24819448\n",
      " 1422.430341   1428.87451747 1463.16847101 1468.86823266 1467.42092846\n",
      " 1477.72999748 1487.59454307 1483.35083016 1471.54070123 1478.137079\n",
      " 1478.70030259 1399.573231   1364.11056299 1384.7793931  1331.63505155\n",
      " 1288.4158175  1331.81649549 1323.16091961 1320.1917582  1350.52847892\n",
      " 1374.14662552 1372.38011883 1389.02999038 1402.47737235 1392.69956113\n",
      " 1415.91565209 1431.42916103 1405.43906956 1386.81435612 1358.73338324\n",
      " 1371.5444606  1380.25882946 1376.15697818 1403.51449338 1413.34297652\n",
      " 1459.47156323 1460.44009293 1442.68598868 1438.62409801 1446.90231557\n",
      " 1424.52600224 1385.15832218 1375.97821809 1373.54708866 1329.64071995\n",
      " 1303.47458881 1341.43246602 1295.77732506] 0.8871170619836852 343\n"
     ]
    }
   ],
   "source": [
    "forecast_set = clf.predict(X_lately)\n",
    "print(forecast_set, accuracy, forecast_out)"
   ]
  },
  {
   "cell_type": "code",
   "execution_count": 8,
   "metadata": {},
   "outputs": [
    {
     "name": "stdout",
     "output_type": "stream",
     "text": [
      "            Adj. Close    HL_PCT  PCT_change  Adj. Volume       label  \\\n",
      "Date                                                                    \n",
      "2004-08-19   50.322842  8.072956    0.324968   44659000.0  214.005615   \n",
      "2004-08-20   54.322689  7.921706    7.227007   22834300.0  210.725489   \n",
      "2004-08-23   54.869377  4.049360   -1.227880   18256100.0  208.072299   \n",
      "2004-08-24   52.597363  7.657099   -5.726357   15247300.0  218.288837   \n",
      "2004-08-25   53.164113  3.886792    1.183658    9188600.0  223.309335   \n",
      "\n",
      "            Forecast  \n",
      "Date                  \n",
      "2004-08-19       NaN  \n",
      "2004-08-20       NaN  \n",
      "2004-08-23       NaN  \n",
      "2004-08-24       NaN  \n",
      "2004-08-25       NaN  \n",
      "                     Adj. Close  HL_PCT  PCT_change  Adj. Volume  label  \\\n",
      "Date                                                                      \n",
      "2017-10-15 02:00:00         NaN     NaN         NaN          NaN    NaN   \n",
      "2017-10-16 02:00:00         NaN     NaN         NaN          NaN    NaN   \n",
      "2017-10-17 02:00:00         NaN     NaN         NaN          NaN    NaN   \n",
      "2017-10-18 02:00:00         NaN     NaN         NaN          NaN    NaN   \n",
      "2017-10-19 02:00:00         NaN     NaN         NaN          NaN    NaN   \n",
      "\n",
      "                        Forecast  \n",
      "Date                              \n",
      "2017-10-15 02:00:00  1373.547089  \n",
      "2017-10-16 02:00:00  1329.640720  \n",
      "2017-10-17 02:00:00  1303.474589  \n",
      "2017-10-18 02:00:00  1341.432466  \n",
      "2017-10-19 02:00:00  1295.777325  \n"
     ]
    },
    {
     "data": {
      "image/png": "[encoded data removed]",
      "text/plain": [
       "<Figure size 432x288 with 1 Axes>"
      ]
     },
     "metadata": {
      "needs_background": "light"
     },
     "output_type": "display_data"
    }
   ],
   "source": [
    "df['Forecast'] = np.nan\n",
    "\n",
    "last_date = df.iloc[-1].name\n",
    "last_unix = last_date.timestamp()\n",
    "one_day = 86400\n",
    "next_unix = last_unix + one_day\n",
    "\n",
    "for i in forecast_set:\n",
    "    next_date = datetime.datetime.fromtimestamp(next_unix)\n",
    "    next_unix += one_day\n",
    "    df.loc[next_date] = [np.nan for _ in range(len(df.columns)-1)] + [i]\n",
    "\n",
    "print(df.head())\n",
    "print(df.tail())\n",
    "\n",
    "df['Adj. Close'].plot()\n",
    "df['Forecast'].plot()\n",
    "plt.legend(loc=4)\n",
    "plt.xlabel('Date')\n",
    "plt.ylabel('Price')\n",
    "plt.show()"
   ]
  },
  {
   "cell_type": "code",
   "execution_count": null,
   "metadata": {},
   "outputs": [],
   "source": []
  }
 ],
 "metadata": {
  "kernelspec": {
   "display_name": "Python 3",
   "language": "python",
   "name": "python3"
  },
  "language_info": {
   "codemirror_mode": {
    "name": "ipython",
    "version": 3
   },
   "file_extension": ".py",
   "mimetype": "text/x-python",
   "name": "python",
   "nbconvert_exporter": "python",
   "pygments_lexer": "ipython3",
   "version": "3.7.2"
  }
 },
 "nbformat": 4,
 "nbformat_minor": 2
}
