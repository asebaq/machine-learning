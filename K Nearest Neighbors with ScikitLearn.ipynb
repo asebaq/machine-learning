{
 "cells": [
  {
   "cell_type": "markdown",
   "metadata": {},
   "source": [
    "# Implement K Nearest Neighbors Algorithm"
   ]
  },
  {
   "cell_type": "code",
   "execution_count": 8,
   "metadata": {},
   "outputs": [],
   "source": [
    "# import libraries\n",
    "import numpy as np\n",
    "from math import sqrt\n",
    "import warnings\n",
    "from collections import Counter\n",
    "import pandas as pd\n",
    "import random\n",
    "from sklearn import preprocessing, neighbors\n",
    "from sklearn.model_selection import cross_validate, train_test_split\n",
    "\n",
    "def k_nearest_neighbors(data, predict, k=3):\n",
    "    if len(data) >= k:\n",
    "        warnings.warn('K is set to a value less than total voting groups!')       \n",
    "    #knn algos\n",
    "    distances = []\n",
    "    for group in data:\n",
    "        for features in data[group]:\n",
    "            euclidean_distance = np.linalg.norm(np.array(features)-np.array(predict))\n",
    "            distances.append([euclidean_distance, group])\n",
    "    votes = [i[1] for i in sorted(distances)[:k]]\n",
    "    vote_result = Counter(votes).most_common(1)[0][0]\n",
    "    confidence = Counter(votes).most_common(1)[0][1] / k\n",
    "    return vote_result, confidence\n"
   ]
  },
  {
   "cell_type": "markdown",
   "metadata": {},
   "source": [
    "### Try Our K-NN Algorithm"
   ]
  },
  {
   "cell_type": "code",
   "execution_count": 9,
   "metadata": {},
   "outputs": [
    {
     "name": "stdout",
     "output_type": "stream",
     "text": [
      "0.9661648745519714\n"
     ]
    }
   ],
   "source": [
    "accuracies = []\n",
    "for i in range(25):\n",
    "    # load the data set\n",
    "    df = pd.read_csv('breast-cancer-wisconsin.data.txt')\n",
    "    # handle missing data\n",
    "    df.replace('?', -99999, inplace=True)\n",
    "    df.drop(['id'], 1, inplace=True)\n",
    "    full_data = df.astype(float).values.tolist()\n",
    "    random.shuffle(full_data)\n",
    "\n",
    "    # create training and testing sets\n",
    "    test_size = 0.4\n",
    "    train_set = {2:[], 4:[]}\n",
    "    test_set = {2:[], 4:[]}\n",
    "    train_data = full_data[:-int(test_size*len(full_data))]\n",
    "    test_data = full_data[-int(test_size*len(full_data)):]\n",
    "\n",
    "    # populate the empty dictionary for train and test sets\n",
    "    for i in train_data:\n",
    "        train_set[i[-1]].append(i[:-1])\n",
    "    for i in test_data:\n",
    "        test_set[i[-1]].append(i[:-1])\n",
    "\n",
    "    # try our knn algorithm \n",
    "    correct = 0\n",
    "    total = 0\n",
    "    for group in test_set:\n",
    "        for data in test_set[group]:\n",
    "            vote, conf = k_nearest_neighbors(train_set, data, k=5)\n",
    "            if group == vote:\n",
    "                correct += 1\n",
    "            total += 1\n",
    "\n",
    "    accuracies.append(correct/total)\n",
    "\n",
    "print(sum(accuracies)/len(accuracies))"
   ]
  },
  {
   "cell_type": "markdown",
   "metadata": {},
   "source": [
    "### Try ScikitLearn K-NN Algorithm"
   ]
  },
  {
   "cell_type": "code",
   "execution_count": 11,
   "metadata": {},
   "outputs": [
    {
     "name": "stdout",
     "output_type": "stream",
     "text": [
      "0.9734285714285711\n"
     ]
    }
   ],
   "source": [
    "accuracies = []\n",
    "for i in range(25):\n",
    "    df = pd.read_csv('breast-cancer-wisconsin.data.txt')\n",
    "    df.replace('?', -99999, inplace=True)\n",
    "    df.drop(['id'], 1, inplace=True) \n",
    "\n",
    "    X = np.array(df.drop(['class'], 1))\n",
    "    y = np.array(df['class'])\n",
    "\n",
    "    X_train, X_test, y_train, y_test = train_test_split(X, y, test_size=0.2)\n",
    "\n",
    "    clf = neighbors.KNeighborsClassifier(n_jobs=-1)\n",
    "    clf.fit(X_train, y_train)\n",
    "\n",
    "    accuracy = clf.score(X_test, y_test)\n",
    "    accuracies.append(accuracy)\n",
    "    \n",
    "print(sum(accuracies)/len(accuracies))"
   ]
  },
  {
   "cell_type": "code",
   "execution_count": null,
   "metadata": {},
   "outputs": [],
   "source": []
  }
 ],
 "metadata": {
  "kernelspec": {
   "display_name": "Python 3",
   "language": "python",
   "name": "python3"
  },
  "language_info": {
   "codemirror_mode": {
    "name": "ipython",
    "version": 3
   },
   "file_extension": ".py",
   "mimetype": "text/x-python",
   "name": "python",
   "nbconvert_exporter": "python",
   "pygments_lexer": "ipython3",
   "version": "3.7.3"
  }
 },
 "nbformat": 4,
 "nbformat_minor": 2
}
