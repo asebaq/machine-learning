{
 "cells": [
  {
   "cell_type": "markdown",
   "metadata": {},
   "source": [
    "# Implement K Nearest Neighbors Algorithm"
   ]
  },
  {
   "cell_type": "code",
   "execution_count": 20,
   "metadata": {},
   "outputs": [],
   "source": [
    "# import libraries\n",
    "import numpy as np\n",
    "from math import sqrt\n",
    "import warnings\n",
    "from collections import Counter\n",
    "import pandas as pd\n",
    "import random\n",
    "\n",
    "def k_nearest_neighbors(data, predict, k=3):\n",
    "    if len(data) >= k:\n",
    "        warnings.warn('K is set to a value less than total voting groups!')\n",
    "        \n",
    "    #knnalgos\n",
    "    distances = []\n",
    "    for group in data:\n",
    "        for features in data[group]:\n",
    "#             euclidean_distance = sqrt((features[0]-predict[0])**2 + (features[1]-predict[1])**2)\n",
    "#             euclidean_distance = np.sqrt(np.sum((np.array(features)-np.array(predict))**2))\n",
    "            euclidean_distance = np.linalg.norm(np.array(features)-np.array(predict))\n",
    "            distances.append([euclidean_distance, group])\n",
    "    votes = [i[1] for i in sorted(distances)[:k]]\n",
    "#     print(Counter(votes).most_common(1)[0])\n",
    "    vote_result = Counter(votes).most_common(1)[0][0]\n",
    "    confidence = Counter(votes).most_common(1)[0][1] / k\n",
    "    return vote_result, confidence\n"
   ]
  },
  {
   "cell_type": "code",
   "execution_count": 21,
   "metadata": {},
   "outputs": [
    {
     "name": "stdout",
     "output_type": "stream",
     "text": [
      "   clump_thickness  unif_cel_size  unif_cell_shape  marg_adhesion  \\\n",
      "0                5              1                1              1   \n",
      "1                5              4                4              5   \n",
      "2                3              1                1              1   \n",
      "3                6              8                8              1   \n",
      "4                4              1                1              3   \n",
      "\n",
      "   single_epith_cell_size bare_nuclei  bland_chrom  norm_nucleoli  mitoses  \\\n",
      "0                       2           1            3              1        1   \n",
      "1                       7          10            3              2        1   \n",
      "2                       2           2            3              1        1   \n",
      "3                       3           4            3              7        1   \n",
      "4                       2           1            3              1        1   \n",
      "\n",
      "   class  \n",
      "0      2  \n",
      "1      2  \n",
      "2      2  \n",
      "3      2  \n",
      "4      2  \n"
     ]
    }
   ],
   "source": [
    "# load the data set\n",
    "df = pd.read_csv('breast-cancer-wisconsin.data.txt')\n",
    "# handle missing data\n",
    "df.replace('?', -99999, inplace=True)\n",
    "df.drop(['id'], 1, inplace=True)\n",
    "print(df.head())"
   ]
  },
  {
   "cell_type": "code",
   "execution_count": 22,
   "metadata": {},
   "outputs": [
    {
     "name": "stdout",
     "output_type": "stream",
     "text": [
      "[[5.0, 1.0, 1.0, 1.0, 2.0, 1.0, 3.0, 1.0, 1.0, 2.0], [5.0, 4.0, 4.0, 5.0, 7.0, 10.0, 3.0, 2.0, 1.0, 2.0], [3.0, 1.0, 1.0, 1.0, 2.0, 2.0, 3.0, 1.0, 1.0, 2.0], [6.0, 8.0, 8.0, 1.0, 3.0, 4.0, 3.0, 7.0, 1.0, 2.0], [4.0, 1.0, 1.0, 3.0, 2.0, 1.0, 3.0, 1.0, 1.0, 2.0]]\n"
     ]
    }
   ],
   "source": [
    "full_data = df.astype(float).values.tolist()\n",
    "# full_data = df.values.tolist()\n",
    "print(full_data[:5])"
   ]
  },
  {
   "cell_type": "code",
   "execution_count": 23,
   "metadata": {},
   "outputs": [
    {
     "name": "stdout",
     "output_type": "stream",
     "text": [
      "[[8.0, 4.0, 5.0, 1.0, 2.0, -99999.0, 7.0, 3.0, 1.0, 4.0], [8.0, 7.0, 8.0, 5.0, 10.0, 10.0, 7.0, 2.0, 1.0, 4.0], [1.0, 1.0, 1.0, 3.0, 2.0, 3.0, 1.0, 1.0, 1.0, 2.0], [5.0, 1.0, 1.0, 1.0, 2.0, 1.0, 1.0, 1.0, 1.0, 2.0], [3.0, 1.0, 1.0, 1.0, 1.0, 1.0, 2.0, 1.0, 1.0, 2.0]]\n"
     ]
    }
   ],
   "source": [
    "random.shuffle(full_data)\n",
    "print(full_data[:5])"
   ]
  },
  {
   "cell_type": "code",
   "execution_count": 26,
   "metadata": {},
   "outputs": [],
   "source": [
    "# create training and testing sets\n",
    "test_size = 0.4\n",
    "train_set = {2:[], 4:[]}\n",
    "test_set = {2:[], 4:[]}\n",
    "train_data = full_data[:-int(test_size*len(full_data))]\n",
    "test_data = full_data[-int(test_size*len(full_data)):]\n",
    "\n",
    "# populate the empty dictionary for train and test sets\n",
    "for i in train_data:\n",
    "    train_set[i[-1]].append(i[:-1])\n",
    "    \n",
    "for i in test_data:\n",
    "    test_set[i[-1]].append(i[:-1])\n"
   ]
  },
  {
   "cell_type": "code",
   "execution_count": 27,
   "metadata": {},
   "outputs": [
    {
     "name": "stdout",
     "output_type": "stream",
     "text": [
      "0.6\n",
      "0.8\n",
      "1.0\n",
      "0.6\n",
      "Accuracy: 0.985663082437276\n"
     ]
    }
   ],
   "source": [
    "# try our knn algorithm \n",
    "correct = 0\n",
    "total = 0\n",
    "\n",
    "for group in test_set:\n",
    "    for data in test_set[group]:\n",
    "        vote, conf = k_nearest_neighbors(train_set, data, k=5)\n",
    "#         print(f'{vote}, {conf}')\n",
    "        if group == vote:\n",
    "            correct += 1\n",
    "        else:\n",
    "            print(conf)\n",
    "        total += 1\n",
    "\n",
    "print(f'Accuracy: {correct/total}')"
   ]
  },
  {
   "cell_type": "code",
   "execution_count": null,
   "metadata": {},
   "outputs": [],
   "source": []
  }
 ],
 "metadata": {
  "kernelspec": {
   "display_name": "Python 3",
   "language": "python",
   "name": "python3"
  },
  "language_info": {
   "codemirror_mode": {
    "name": "ipython",
    "version": 3
   },
   "file_extension": ".py",
   "mimetype": "text/x-python",
   "name": "python",
   "nbconvert_exporter": "python",
   "pygments_lexer": "ipython3",
   "version": "3.7.3"
  }
 },
 "nbformat": 4,
 "nbformat_minor": 2
}
