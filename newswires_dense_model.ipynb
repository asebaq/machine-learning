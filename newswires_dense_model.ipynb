{
 "cells": [
  {
   "cell_type": "markdown",
   "metadata": {},
   "source": [
    "### Classifying newswires\n",
    "\n",
    "In this example we'll build a network to classify **Reuters newswires** into **46** mutually\n",
    "exclusive topics. Because you have many classes, this problem is an instance of **multiclass\n",
    "classification**; and because each data point should be classified into only one category,\n",
    "the problem is more specifically an instance of **single-label, multiclass classification**.\n",
    "\n",
    "If each data point could belong to multiple categories, you’d be\n",
    "facing a **multilabel, multiclass classification problem**.\n"
   ]
  },
  {
   "cell_type": "markdown",
   "metadata": {},
   "source": [
    "### More about the Dataset\n",
    "* **Reuters dataset** is a set of short newswires and their topics, published by Reuters in 1986. It’s a simple, widely used toy dataset for text classification. There are *46 different topics*.\n",
    "* **Reuters dataset** comes packaged as part of *Keras*."
   ]
  },
  {
   "cell_type": "markdown",
   "metadata": {},
   "source": [
    "### Let's start classifing:\n",
    "### At first, we load the data set from Keras\n",
    " * The argument **num_words=10000** in the code snippet restricts the data to the 10,000 most frequently occurring words found in the data."
   ]
  },
  {
   "cell_type": "code",
   "execution_count": 1,
   "metadata": {},
   "outputs": [
    {
     "name": "stderr",
     "output_type": "stream",
     "text": [
      "Using TensorFlow backend.\n"
     ]
    },
    {
     "name": "stdout",
     "output_type": "stream",
     "text": [
      "Number of training examples: 8982\n",
      "Number of test examples: 2246\n"
     ]
    }
   ],
   "source": [
    "from keras.datasets import reuters\n",
    "\n",
    "(train_data, train_labels), (test_data, test_labels) = reuters.load_data()\n",
    "\n",
    "print('Number of training examples:', len(train_data))\n",
    "print('Number of test examples:', len(test_data))"
   ]
  },
  {
   "cell_type": "markdown",
   "metadata": {},
   "source": [
    "* So the variables **train_data** and **test_data** are list of newswires each example is a list of words encoded as integers which is called **word indices**."
   ]
  },
  {
   "cell_type": "code",
   "execution_count": 2,
   "metadata": {},
   "outputs": [
    {
     "name": "stdout",
     "output_type": "stream",
     "text": [
      "Example #7 from the training examples:\n",
      "[1, 56, 5539, 925, 149, 8, 16, 23, 931, 3875, 25, 116, 5, 165, 15, 10, 67, 13, 12, 12, 11, 5311, 400, 81, 79, 457, 145, 22, 331, 28, 3026, 331, 61, 3609, 2097, 5311, 79, 64, 85, 1863, 84, 22, 44, 6206, 2275, 79, 296, 1384, 157, 5539, 8, 16, 23, 3875, 4, 116, 6, 837, 5311, 6, 3834, 31, 248, 1032, 8757, 4, 1618, 5, 37, 38, 1639, 27, 358, 37, 38, 4716, 9, 6, 9474, 4, 316, 9, 662, 5, 4, 765, 5, 291, 58, 60, 2660, 1067, 136, 4, 384, 292, 270, 120, 17, 12]\n"
     ]
    }
   ],
   "source": [
    "print('Example #7 from the training examples:')\n",
    "print(train_data[6])"
   ]
  },
  {
   "cell_type": "markdown",
   "metadata": {},
   "source": [
    "* Of course we can quickly decode these newswires back to English words, by using the function **get_word_index** using the following code snippet:"
   ]
  },
  {
   "cell_type": "code",
   "execution_count": 4,
   "metadata": {},
   "outputs": [
    {
     "name": "stdout",
     "output_type": "stream",
     "text": [
      "The original text for example #7: ? lt qintex america ltd said it is again extending its offer of 13 dlrs a share for 3 3 mln princeville development corp shares until today from yesterday at midnight yesterday 7 242 117 princeville shares had been tendered up from 5 887 165 shares 24 hours earlier qintex said it is extending the offer to allow princeville to comply with federal law restricting the ownership of u s airlines by non u s citizens and to finalize the terms and conditions of the letter of credit or bank guarantee required under the previously announced acquisition agreement reuter 3\n"
     ]
    }
   ],
   "source": [
    "# Decoding newswires back to text\n",
    "word_index = reuters.get_word_index()\n",
    "reverse_word_index = dict([(value, key) for (key, value) in word_index.items()])\n",
    "# Note that the indices are offset by 3 because 0, 1, and 2 are reserved\n",
    "# indices for \"padding,\" \"start of sequence,\" and \"unknown.\"\n",
    "decoded_newswire = ' '.join([reverse_word_index.get(i - 3, '?') for i in train_data[6]])\n",
    "\n",
    "print('The original text for example #7:', decoded_newswire)"
   ]
  },
  {
   "cell_type": "markdown",
   "metadata": {},
   "source": [
    "### Second,  we prepair the data to be fed to the network\n",
    "\n",
    "- We can't feed lists of integers into a neural network. You have to turn your lists into tensors.\n",
    "- There are two ways to do that:\n",
    "> - Vectorization\n",
    "> - One-hot encoding\n",
    "\n",
    "#### Let's start with vectorization:"
   ]
  },
  {
   "cell_type": "code",
   "execution_count": 5,
   "metadata": {},
   "outputs": [
    {
     "name": "stdout",
     "output_type": "stream",
     "text": [
      "Training example #7 before vectorization: [1, 56, 5539, 925, 149, 8, 16, 23, 931, 3875, 25, 116, 5, 165, 15, 10, 67, 13, 12, 12, 11, 5311, 400, 81, 79, 457, 145, 22, 331, 28, 3026, 331, 61, 3609, 2097, 5311, 79, 64, 85, 1863, 84, 22, 44, 6206, 2275, 79, 296, 1384, 157, 5539, 8, 16, 23, 3875, 4, 116, 6, 837, 5311, 6, 3834, 31, 248, 1032, 8757, 4, 1618, 5, 37, 38, 1639, 27, 358, 37, 38, 4716, 9, 6, 9474, 4, 316, 9, 662, 5, 4, 765, 5, 291, 58, 60, 2660, 1067, 136, 4, 384, 292, 270, 120, 17, 12]\n",
      "\n",
      "Training example #7 after vectorization: [0. 1. 0. ... 0. 0. 0.]\n"
     ]
    }
   ],
   "source": [
    "# vectorize the data\n",
    "import numpy as np\n",
    "\n",
    "# This function take a sequence of data and vectorized \n",
    "# by putting a 1s for specific indecies\n",
    "def vectorize_sequences(sequences, dimension=10000):\n",
    "    results = np.zeros((len(sequences), dimension))\n",
    "    for i, sequence in enumerate(sequences):\n",
    "        # set specific indecies of results[i] to 1s\n",
    "        results[i, sequence] = 1.\n",
    "    return results\n",
    "\n",
    "x_train = vectorize_sequences(train_data)\n",
    "x_test = vectorize_sequences(test_data)\n",
    "\n",
    "print('Training example #7 before vectorization:', train_data[6])\n",
    "print()\n",
    "print('Training example #7 after vectorization:', x_train[6])"
   ]
  },
  {
   "cell_type": "markdown",
   "metadata": {},
   "source": [
    "#### To vectorize the labels, we can use one-hot encoding:\n",
    "- **One-hot encoding** is a widely used format for categorical data, also called **categorical encoding**. \n",
    "> **One-hot encoding** of\n",
    "the labels consists of embedding each label as an **all-zero** vector with a **1** in the place of\n",
    "the label index."
   ]
  },
  {
   "cell_type": "code",
   "execution_count": 6,
   "metadata": {},
   "outputs": [],
   "source": [
    "# Use one-hot encoding for the labels\n",
    "def to_one_hot(labels, dimension=46):\n",
    "    results = np.zeros((len(labels), dimension))\n",
    "    for i, label in enumerate(labels):\n",
    "        results[i, label] = 1\n",
    "    return results"
   ]
  },
  {
   "cell_type": "code",
   "execution_count": 8,
   "metadata": {},
   "outputs": [
    {
     "name": "stdout",
     "output_type": "stream",
     "text": [
      "Label of the training example #7 befor one-hot encoding: 4\n",
      "\n",
      "Label of the training example #7 after one-hot encoding: [0. 0. 0. 0. 1. 0. 0. 0. 0. 0. 0. 0. 0. 0. 0. 0. 0. 0. 0. 0. 0. 0. 0. 0.\n",
      " 0. 0. 0. 0. 0. 0. 0. 0. 0. 0. 0. 0. 0. 0. 0. 0. 0. 0. 0. 0. 0. 0.]\n"
     ]
    }
   ],
   "source": [
    "one_hot_train_labels = to_one_hot(train_labels)\n",
    "one_hot_test_labels = to_one_hot(test_labels)\n",
    "\n",
    "print('Label of the training example #7 befor one-hot encoding:', train_labels[6])\n",
    "print()\n",
    "print('Label of the training example #7 after one-hot encoding:', one_hot_train_labels[6])"
   ]
  },
  {
   "cell_type": "markdown",
   "metadata": {},
   "source": [
    "- Note that there is a built-in way to do this in Keras, which you’ve already seen in action **to_categorical**"
   ]
  },
  {
   "cell_type": "code",
   "execution_count": 9,
   "metadata": {},
   "outputs": [],
   "source": [
    "from keras.utils.np_utils import to_categorical\n",
    "\n",
    "one_hot_train_labels = to_categorical(train_labels)\n",
    "one_hot_test_labels = to_categorical(test_labels)"
   ]
  },
  {
   "cell_type": "markdown",
   "metadata": {},
   "source": [
    "### Now, we building our network\n",
    "#### In this topic-classification problem there is a new constraint here: \n",
    "- The number of output classes has gone from **2 to 46**. The dimensionality of the output space is much larger.\n"
   ]
  },
  {
   "cell_type": "markdown",
   "metadata": {},
   "source": [
    "#### There are two things we should consider when designing our architecture:\n",
    "> - The network need to end with a **Dense layer of size 46**. This means for each input\n",
    "sample, the network will output a 46-dimensional vector. \n",
    "\n",
    "> - The last layer uses a **softmax activation** which means the network will output a probability distribution over the 46\n",
    "different output classes for every input sample, the network will produce a 46-dimensional output vector.\n",
    "\n",
    "> - The best loss function to use in this case is **categorical_crossentropy** where it measures\n",
    "the distance between two probability distributions."
   ]
  },
  {
   "cell_type": "code",
   "execution_count": 10,
   "metadata": {},
   "outputs": [
    {
     "name": "stdout",
     "output_type": "stream",
     "text": [
      "WARNING:tensorflow:From C:\\Users\\Ahmad\\Anaconda3\\lib\\site-packages\\tensorflow\\python\\framework\\op_def_library.py:263: colocate_with (from tensorflow.python.framework.ops) is deprecated and will be removed in a future version.\n",
      "Instructions for updating:\n",
      "Colocations handled automatically by placer.\n"
     ]
    }
   ],
   "source": [
    "# Model definition\n",
    "from keras import models\n",
    "from keras import layers\n",
    "\n",
    "model = models.Sequential()\n",
    "model.add(layers.Dense(64, activation='relu', input_shape=(10000,)))\n",
    "model.add(layers.Dense(64, activation='relu'))\n",
    "model.add(layers.Dense(46, activation='softmax'))"
   ]
  },
  {
   "cell_type": "code",
   "execution_count": 11,
   "metadata": {},
   "outputs": [],
   "source": [
    "model.compile(optimizer='rmsprop', loss='categorical_crossentropy', metrics=['accuracy'])"
   ]
  },
  {
   "cell_type": "markdown",
   "metadata": {},
   "source": [
    "### Let's set apart 1,000 samples in the training data to use as a validation set"
   ]
  },
  {
   "cell_type": "code",
   "execution_count": 12,
   "metadata": {},
   "outputs": [],
   "source": [
    "# validating set\n",
    "x_val = x_train[:1000]\n",
    "partial_x_train = x_train[1000:]\n",
    "\n",
    "y_val = one_hot_train_labels[:1000]\n",
    "partial_y_train = one_hot_train_labels[1000:]"
   ]
  },
  {
   "cell_type": "code",
   "execution_count": 13,
   "metadata": {},
   "outputs": [
    {
     "name": "stdout",
     "output_type": "stream",
     "text": [
      "WARNING:tensorflow:From C:\\Users\\Ahmad\\Anaconda3\\lib\\site-packages\\tensorflow\\python\\ops\\math_ops.py:3066: to_int32 (from tensorflow.python.ops.math_ops) is deprecated and will be removed in a future version.\n",
      "Instructions for updating:\n",
      "Use tf.cast instead.\n",
      "Train on 7982 samples, validate on 1000 samples\n",
      "Epoch 1/20\n",
      "7982/7982 [==============================] - 3s 344us/step - loss: 2.5322 - acc: 0.4955 - val_loss: 1.7204 - val_acc: 0.6120\n",
      "Epoch 2/20\n",
      "7982/7982 [==============================] - 2s 237us/step - loss: 1.4450 - acc: 0.6878 - val_loss: 1.3457 - val_acc: 0.7060\n",
      "Epoch 3/20\n",
      "7982/7982 [==============================] - 2s 244us/step - loss: 1.0951 - acc: 0.7648 - val_loss: 1.1704 - val_acc: 0.7420\n",
      "Epoch 4/20\n",
      "7982/7982 [==============================] - 2s 247us/step - loss: 0.8695 - acc: 0.8161 - val_loss: 1.0795 - val_acc: 0.7590\n",
      "Epoch 5/20\n",
      "7982/7982 [==============================] - 2s 238us/step - loss: 0.7032 - acc: 0.8480 - val_loss: 0.9846 - val_acc: 0.7820\n",
      "Epoch 6/20\n",
      "7982/7982 [==============================] - 2s 269us/step - loss: 0.5665 - acc: 0.8795 - val_loss: 0.9409 - val_acc: 0.8030\n",
      "Epoch 7/20\n",
      "7982/7982 [==============================] - 2s 255us/step - loss: 0.4580 - acc: 0.9049 - val_loss: 0.9074 - val_acc: 0.8010\n",
      "Epoch 8/20\n",
      "7982/7982 [==============================] - 2s 238us/step - loss: 0.3696 - acc: 0.9228 - val_loss: 0.9349 - val_acc: 0.7900\n",
      "Epoch 9/20\n",
      "7982/7982 [==============================] - 2s 254us/step - loss: 0.3032 - acc: 0.9311 - val_loss: 0.8917 - val_acc: 0.8090\n",
      "Epoch 10/20\n",
      "7982/7982 [==============================] - 2s 234us/step - loss: 0.2538 - acc: 0.9412 - val_loss: 0.9067 - val_acc: 0.8120\n",
      "Epoch 11/20\n",
      "7982/7982 [==============================] - 2s 241us/step - loss: 0.2183 - acc: 0.9470 - val_loss: 0.9178 - val_acc: 0.8130\n",
      "Epoch 12/20\n",
      "7982/7982 [==============================] - 2s 256us/step - loss: 0.1872 - acc: 0.9509 - val_loss: 0.9023 - val_acc: 0.8150\n",
      "Epoch 13/20\n",
      "7982/7982 [==============================] - 2s 231us/step - loss: 0.1698 - acc: 0.9525 - val_loss: 0.9343 - val_acc: 0.8090\n",
      "Epoch 14/20\n",
      "7982/7982 [==============================] - 2s 235us/step - loss: 0.1531 - acc: 0.9555 - val_loss: 0.9718 - val_acc: 0.8060\n",
      "Epoch 15/20\n",
      "7982/7982 [==============================] - 2s 283us/step - loss: 0.1390 - acc: 0.9557 - val_loss: 0.9686 - val_acc: 0.8140\n",
      "Epoch 16/20\n",
      "7982/7982 [==============================] - 2s 247us/step - loss: 0.1312 - acc: 0.9560 - val_loss: 1.0248 - val_acc: 0.8030\n",
      "Epoch 17/20\n",
      "7982/7982 [==============================] - 2s 236us/step - loss: 0.1216 - acc: 0.9580 - val_loss: 1.0250 - val_acc: 0.7980\n",
      "Epoch 18/20\n",
      "7982/7982 [==============================] - 2s 258us/step - loss: 0.1198 - acc: 0.9577 - val_loss: 1.0437 - val_acc: 0.8060\n",
      "Epoch 19/20\n",
      "7982/7982 [==============================] - 2s 239us/step - loss: 0.1135 - acc: 0.9594 - val_loss: 1.0941 - val_acc: 0.7980\n",
      "Epoch 20/20\n",
      "7982/7982 [==============================] - 2s 258us/step - loss: 0.1107 - acc: 0.9595 - val_loss: 1.0693 - val_acc: 0.8010\n"
     ]
    }
   ],
   "source": [
    "history = model.fit(partial_x_train, partial_y_train, epochs=20, \n",
    "                    batch_size=512, validation_data=(x_val, y_val))"
   ]
  },
  {
   "cell_type": "code",
   "execution_count": 14,
   "metadata": {},
   "outputs": [
    {
     "name": "stdout",
     "output_type": "stream",
     "text": [
      "The model accuracy is: 0.9595339507932383\n",
      "\n"
     ]
    }
   ],
   "source": [
    "print('The model accuracy is:', max(history.history['acc']))\n",
    "print()"
   ]
  },
  {
   "cell_type": "markdown",
   "metadata": {},
   "source": [
    "### Let's plot the train and validation loss"
   ]
  },
  {
   "cell_type": "code",
   "execution_count": 16,
   "metadata": {},
   "outputs": [
    {
     "data": {
      "image/png": "[encoded data removed]",
      "text/plain": [
       "<Figure size 432x288 with 1 Axes>"
      ]
     },
     "metadata": {
      "needs_background": "light"
     },
     "output_type": "display_data"
    }
   ],
   "source": [
    "# Ploting the train and validation loss\n",
    "import matplotlib.pyplot as plt\n",
    "\n",
    "loss = history.history['loss']\n",
    "val_loss = history.history['val_loss']\n",
    "\n",
    "epochs = range(1, len(loss)+1)\n",
    "\n",
    "plt.plot(epochs, loss, 'bo', label='Training loss')\n",
    "plt.plot(epochs, val_loss, 'b', label='Validation loss')\n",
    "plt.title('Training and validation loss')\n",
    "plt.xlabel('Epochs')\n",
    "plt.ylabel('Loss')\n",
    "plt.legend()\n",
    "\n",
    "plt.show()"
   ]
  },
  {
   "cell_type": "markdown",
   "metadata": {},
   "source": [
    "### Let's plot train and validation accuracy"
   ]
  },
  {
   "cell_type": "code",
   "execution_count": 17,
   "metadata": {},
   "outputs": [
    {
     "data": {
      "image/png": "[encoded data removed]",
      "text/plain": [
       "<Figure size 432x288 with 1 Axes>"
      ]
     },
     "metadata": {
      "needs_background": "light"
     },
     "output_type": "display_data"
    }
   ],
   "source": [
    "plt.clf()\n",
    "\n",
    "acc = history.history['acc']\n",
    "val_acc = history.history['val_acc']\n",
    "\n",
    "plt.plot(epochs, acc, 'bo', label='Training acc')\n",
    "plt.plot(epochs, val_acc, 'b', label='Validation acc')\n",
    "plt.title('Training and validation accuracy')\n",
    "plt.xlabel('Epochs')\n",
    "plt.ylabel('Loss')\n",
    "plt.legend()\n",
    "\n",
    "plt.show()"
   ]
  },
  {
   "cell_type": "markdown",
   "metadata": {},
   "source": [
    "### Try other networks and configurations"
   ]
  },
  {
   "cell_type": "code",
   "execution_count": 15,
   "metadata": {},
   "outputs": [
    {
     "name": "stdout",
     "output_type": "stream",
     "text": [
      "Train on 7982 samples, validate on 1000 samples\n",
      "Epoch 1/9\n",
      "7982/7982 [==============================] - 2s 270us/step - loss: 2.5398 - acc: 0.5226 - val_loss: 1.6733 - val_acc: 0.6570\n",
      "Epoch 2/9\n",
      "7982/7982 [==============================] - 2s 254us/step - loss: 1.3712 - acc: 0.7121 - val_loss: 1.2758 - val_acc: 0.7210\n",
      "Epoch 3/9\n",
      "7982/7982 [==============================] - 2s 233us/step - loss: 1.0136 - acc: 0.7781 - val_loss: 1.1303 - val_acc: 0.7530\n",
      "Epoch 4/9\n",
      "7982/7982 [==============================] - 2s 231us/step - loss: 0.7976 - acc: 0.8251 - val_loss: 1.0539 - val_acc: 0.7590\n",
      "Epoch 5/9\n",
      "7982/7982 [==============================] - 2s 255us/step - loss: 0.6393 - acc: 0.8624 - val_loss: 0.9754 - val_acc: 0.7920\n",
      "Epoch 6/9\n",
      "7982/7982 [==============================] - 2s 239us/step - loss: 0.5124 - acc: 0.8923 - val_loss: 0.9102 - val_acc: 0.8140\n",
      "Epoch 7/9\n",
      "7982/7982 [==============================] - 2s 229us/step - loss: 0.4123 - acc: 0.9137 - val_loss: 0.8932 - val_acc: 0.8210\n",
      "Epoch 8/9\n",
      "7982/7982 [==============================] - 2s 251us/step - loss: 0.3354 - acc: 0.9288 - val_loss: 0.8732 - val_acc: 0.8260\n",
      "Epoch 9/9\n",
      "7982/7982 [==============================] - 2s 232us/step - loss: 0.2782 - acc: 0.9371 - val_loss: 0.9337 - val_acc: 0.8010\n",
      "2246/2246 [==============================] - 1s 233us/step\n"
     ]
    }
   ],
   "source": [
    "# New network\n",
    "model = models.Sequential()\n",
    "model.add(layers.Dense(64, activation='relu', input_shape=(10000,)))\n",
    "model.add(layers.Dense(64, activation='relu'))\n",
    "model.add(layers.Dense(46, activation='softmax'))\n",
    "\n",
    "model.compile(optimizer='rmsprop', loss='categorical_crossentropy', metrics=['acc'])\n",
    "\n",
    "model.fit(partial_x_train, partial_y_train, epochs=9, \n",
    "                    batch_size=512, validation_data=(x_val, y_val))\n",
    "\n",
    "results = model.evaluate(x_test, one_hot_test_labels)"
   ]
  },
  {
   "cell_type": "code",
   "execution_count": 16,
   "metadata": {},
   "outputs": [
    {
     "name": "stdout",
     "output_type": "stream",
     "text": [
      "[1.0222080231562112, 0.7756010686194165]\n"
     ]
    }
   ],
   "source": [
    "print(results)"
   ]
  },
  {
   "cell_type": "code",
   "execution_count": 18,
   "metadata": {},
   "outputs": [
    {
     "name": "stdout",
     "output_type": "stream",
     "text": [
      "0.19857524487978628\n"
     ]
    }
   ],
   "source": [
    "import copy\n",
    "\n",
    "test_labels_copy = copy.copy(test_labels)\n",
    "np.random.shuffle(test_labels_copy)\n",
    "hits_array = np.array(test_labels) == np.array(test_labels_copy)\n",
    "print(float(np.sum(hits_array)) / len(test_labels))"
   ]
  },
  {
   "cell_type": "code",
   "execution_count": 19,
   "metadata": {},
   "outputs": [],
   "source": [
    "# Generate predictions for new data\n",
    "predictions = model.predict(x_test)"
   ]
  },
  {
   "cell_type": "code",
   "execution_count": 21,
   "metadata": {},
   "outputs": [
    {
     "name": "stdout",
     "output_type": "stream",
     "text": [
      "0.9999998\n",
      "3\n"
     ]
    }
   ],
   "source": [
    "print(np.sum(predictions[0]))\n",
    "print(np.argmax(predictions[0]))"
   ]
  },
  {
   "cell_type": "code",
   "execution_count": 22,
   "metadata": {},
   "outputs": [
    {
     "name": "stdout",
     "output_type": "stream",
     "text": [
      "Train on 7982 samples, validate on 1000 samples\n",
      "Epoch 1/9\n",
      "7982/7982 [==============================] - 2s 282us/step - loss: 0.2598 - acc: 0.9400 - val_loss: 0.9024 - val_acc: 0.8190\n",
      "Epoch 2/9\n",
      "7982/7982 [==============================] - 2s 253us/step - loss: 0.1959 - acc: 0.9501 - val_loss: 0.9073 - val_acc: 0.8180\n",
      "Epoch 3/9\n",
      "7982/7982 [==============================] - 2s 236us/step - loss: 0.1760 - acc: 0.9533 - val_loss: 1.0000 - val_acc: 0.7990\n",
      "Epoch 4/9\n",
      "7982/7982 [==============================] - 2s 230us/step - loss: 0.1561 - acc: 0.9548 - val_loss: 0.9256 - val_acc: 0.8220\n",
      "Epoch 5/9\n",
      "7982/7982 [==============================] - 2s 257us/step - loss: 0.1408 - acc: 0.9549 - val_loss: 0.9887 - val_acc: 0.8070\n",
      "Epoch 6/9\n",
      "7982/7982 [==============================] - 2s 231us/step - loss: 0.1312 - acc: 0.9558 - val_loss: 0.9831 - val_acc: 0.8180\n",
      "Epoch 7/9\n",
      "7982/7982 [==============================] - 2s 234us/step - loss: 0.1283 - acc: 0.9588 - val_loss: 1.0701 - val_acc: 0.7950\n",
      "Epoch 8/9\n",
      "7982/7982 [==============================] - 2s 252us/step - loss: 0.1238 - acc: 0.9579 - val_loss: 1.0475 - val_acc: 0.8090\n",
      "Epoch 9/9\n",
      "7982/7982 [==============================] - 2s 236us/step - loss: 0.1176 - acc: 0.9568 - val_loss: 1.0736 - val_acc: 0.8000\n",
      "2246/2246 [==============================] - 0s 207us/step\n"
     ]
    }
   ],
   "source": [
    "# Another encoding method\n",
    "y_train = np.array(train_labels)\n",
    "y_test = np.array(test_labels)\n",
    "\n",
    "# validating set\n",
    "x_val = x_train[:1000]\n",
    "partial_x_train = x_train[1000:]\n",
    "\n",
    "y_val = y_train[:1000]\n",
    "partial_y_train = y_train[1000:]\n",
    "\n",
    "model.compile(optimizer='rmsprop', loss='sparse_categorical_crossentropy', metrics=['acc'])\n",
    "\n",
    "model.fit(partial_x_train, partial_y_train, epochs=9, \n",
    "                    batch_size=512, validation_data=(x_val, y_val))\n",
    "\n",
    "results = model.evaluate(x_test, y_test)"
   ]
  },
  {
   "cell_type": "code",
   "execution_count": 23,
   "metadata": {},
   "outputs": [
    {
     "name": "stdout",
     "output_type": "stream",
     "text": [
      "[1.230331992211346, 0.772039180792344]\n"
     ]
    }
   ],
   "source": [
    "print(results)"
   ]
  },
  {
   "cell_type": "code",
   "execution_count": 30,
   "metadata": {},
   "outputs": [
    {
     "name": "stdout",
     "output_type": "stream",
     "text": [
      "Train on 7982 samples, validate on 1000 samples\n",
      "Epoch 1/9\n",
      "7982/7982 [==============================] - 3s 396us/step - loss: 2.2728 - acc: 0.5730 - val_loss: 1.4644 - val_acc: 0.6630\n",
      "Epoch 2/9\n",
      "7982/7982 [==============================] - 2s 285us/step - loss: 1.1693 - acc: 0.7468 - val_loss: 1.1394 - val_acc: 0.7610\n",
      "Epoch 3/9\n",
      "7982/7982 [==============================] - 2s 306us/step - loss: 0.8247 - acc: 0.8250 - val_loss: 1.0025 - val_acc: 0.7820\n",
      "Epoch 4/9\n",
      "7982/7982 [==============================] - 2s 299us/step - loss: 0.6056 - acc: 0.8777 - val_loss: 0.9558 - val_acc: 0.8050\n",
      "Epoch 5/9\n",
      "7982/7982 [==============================] - 2s 311us/step - loss: 0.4524 - acc: 0.9093 - val_loss: 0.9119 - val_acc: 0.8070\n",
      "Epoch 6/9\n",
      "7982/7982 [==============================] - 2s 299us/step - loss: 0.3442 - acc: 0.9300 - val_loss: 0.8730 - val_acc: 0.8210\n",
      "Epoch 7/9\n",
      "7982/7982 [==============================] - 2s 284us/step - loss: 0.2765 - acc: 0.9416 - val_loss: 0.8890 - val_acc: 0.8210\n",
      "Epoch 8/9\n",
      "7982/7982 [==============================] - 2s 306us/step - loss: 0.2296 - acc: 0.9440 - val_loss: 0.9410 - val_acc: 0.8040\n",
      "Epoch 9/9\n",
      "7982/7982 [==============================] - 2s 284us/step - loss: 0.1888 - acc: 0.9498 - val_loss: 0.9111 - val_acc: 0.8200\n",
      "2246/2246 [==============================] - 1s 263us/step\n",
      "[1.008603137620092, 0.7934105075690115]\n"
     ]
    }
   ],
   "source": [
    "# New network 128 - 64 - 46\n",
    "model = models.Sequential()\n",
    "model.add(layers.Dense(128, activation='relu', input_shape=(10000,)))\n",
    "model.add(layers.Dense(64, activation='relu'))\n",
    "model.add(layers.Dense(46, activation='softmax'))\n",
    "model.compile(optimizer='rmsprop', loss='categorical_crossentropy', metrics=['acc'])\n",
    "\n",
    "model.fit(partial_x_train, partial_y_train, epochs=9, \n",
    "                    batch_size=512, validation_data=(x_val, y_val))\n",
    "\n",
    "print(model.evaluate(x_test, one_hot_test_labels))"
   ]
  },
  {
   "cell_type": "code",
   "execution_count": 31,
   "metadata": {},
   "outputs": [
    {
     "name": "stdout",
     "output_type": "stream",
     "text": [
      "Train on 7982 samples, validate on 1000 samples\n",
      "Epoch 1/13\n",
      "7982/7982 [==============================] - 3s 356us/step - loss: 2.4528 - acc: 0.5541 - val_loss: 1.5016 - val_acc: 0.6750\n",
      "Epoch 2/13\n",
      "7982/7982 [==============================] - 2s 295us/step - loss: 1.2388 - acc: 0.7315 - val_loss: 1.2118 - val_acc: 0.7300\n",
      "Epoch 3/13\n",
      "7982/7982 [==============================] - 2s 298us/step - loss: 0.9144 - acc: 0.7990 - val_loss: 1.0714 - val_acc: 0.7780\n",
      "Epoch 4/13\n",
      "7982/7982 [==============================] - 2s 283us/step - loss: 0.6921 - acc: 0.8472 - val_loss: 1.0188 - val_acc: 0.7830\n",
      "Epoch 5/13\n",
      "7982/7982 [==============================] - 3s 314us/step - loss: 0.5277 - acc: 0.8847 - val_loss: 0.9622 - val_acc: 0.7970\n",
      "Epoch 6/13\n",
      "7982/7982 [==============================] - 2s 287us/step - loss: 0.3958 - acc: 0.9189 - val_loss: 0.9268 - val_acc: 0.8140\n",
      "Epoch 7/13\n",
      "7982/7982 [==============================] - 2s 298us/step - loss: 0.3161 - acc: 0.9325 - val_loss: 0.9335 - val_acc: 0.8040\n",
      "Epoch 8/13\n",
      "7982/7982 [==============================] - 3s 313us/step - loss: 0.2474 - acc: 0.9437 - val_loss: 0.9367 - val_acc: 0.8250\n",
      "Epoch 9/13\n",
      "7982/7982 [==============================] - 2s 290us/step - loss: 0.2195 - acc: 0.9486 - val_loss: 0.9633 - val_acc: 0.8140\n",
      "Epoch 10/13\n",
      "7982/7982 [==============================] - 3s 328us/step - loss: 0.1765 - acc: 0.9549 - val_loss: 1.2181 - val_acc: 0.7650\n",
      "Epoch 11/13\n",
      "7982/7982 [==============================] - 2s 298us/step - loss: 0.1732 - acc: 0.9525 - val_loss: 1.0331 - val_acc: 0.8030\n",
      "Epoch 12/13\n",
      "7982/7982 [==============================] - 2s 312us/step - loss: 0.1517 - acc: 0.9541 - val_loss: 1.1318 - val_acc: 0.7750\n",
      "Epoch 13/13\n",
      "7982/7982 [==============================] - 2s 288us/step - loss: 0.1446 - acc: 0.9558 - val_loss: 1.2630 - val_acc: 0.7650\n",
      "2246/2246 [==============================] - 1s 242us/step\n",
      "[1.3766968579347496, 0.7533392698660771]\n"
     ]
    }
   ],
   "source": [
    "# New network 128 - 64 - 46\n",
    "model = models.Sequential()\n",
    "model.add(layers.Dense(128, activation='relu', input_shape=(10000,)))\n",
    "model.add(layers.Dense(64, activation='relu'))\n",
    "model.add(layers.Dense(64, activation='relu'))\n",
    "model.add(layers.Dense(46, activation='softmax'))\n",
    "model.compile(optimizer='rmsprop', loss='categorical_crossentropy', metrics=['acc'])\n",
    "\n",
    "model.fit(partial_x_train, partial_y_train, epochs=13, \n",
    "                    batch_size=512, validation_data=(x_val, y_val))\n",
    "\n",
    "print(model.evaluate(x_test, one_hot_test_labels))"
   ]
  },
  {
   "cell_type": "code",
   "execution_count": null,
   "metadata": {},
   "outputs": [],
   "source": []
  }
 ],
 "metadata": {
  "kernelspec": {
   "display_name": "Python 3",
   "language": "python",
   "name": "python3"
  },
  "language_info": {
   "codemirror_mode": {
    "name": "ipython",
    "version": 3
   },
   "file_extension": ".py",
   "mimetype": "text/x-python",
   "name": "python",
   "nbconvert_exporter": "python",
   "pygments_lexer": "ipython3",
   "version": "3.7.3"
  }
 },
 "nbformat": 4,
 "nbformat_minor": 2
}
