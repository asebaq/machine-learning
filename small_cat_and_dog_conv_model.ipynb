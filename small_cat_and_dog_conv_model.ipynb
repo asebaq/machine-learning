{
 "cells": [
  {
   "cell_type": "markdown",
   "metadata": {},
   "source": [
    "### We'll create a new dataset containing three subsets: a training set with 1,000 samples of each class, a validation set with 500 samples of each class, and a test set with 500 samples of each class"
   ]
  },
  {
   "cell_type": "code",
   "execution_count": 7,
   "metadata": {},
   "outputs": [],
   "source": [
    "import os, shutil\n",
    "\n",
    "original_dataset_dir = r'kaggle_original_data_dogs-vs-cats/train'\n",
    "\n",
    "base_dir = r'cats_and_dogs_small'\n",
    "os.mkdir(base_dir)\n",
    "\n",
    "train_dir = os.path.join(base_dir, 'train')\n",
    "os.mkdir(train_dir)\n",
    "\n",
    "validation_dir = os.path.join(base_dir, 'validation')\n",
    "os.mkdir(validation_dir)\n",
    "\n",
    "test_dir = os.path.join(base_dir, 'test')\n",
    "os.mkdir(test_dir)\n",
    "\n",
    "train_cats_dir = os.path.join(train_dir, 'cats')\n",
    "os.mkdir(train_cats_dir)\n",
    "\n",
    "train_dogs_dir = os.path.join(train_dir, 'dogs')\n",
    "os.mkdir(train_dogs_dir)\n",
    "\n",
    "validation_cats_dir = os.path.join(validation_dir, 'cats')\n",
    "os.mkdir(validation_cats_dir)\n",
    "\n",
    "validation_dogs_dir = os.path.join(validation_dir, 'dogs')\n",
    "os.mkdir(validation_dogs_dir)\n",
    "\n",
    "test_cats_dir = os.path.join(test_dir, 'cats')\n",
    "os.mkdir(test_cats_dir)\n",
    "\n",
    "test_dogs_dir = os.path.join(test_dir, 'dogs')\n",
    "os.mkdir(test_dogs_dir)\n",
    "\n",
    "fnames = ['cat.{}.jpg'.format(i) for i in range(1000)]\n",
    "for fname in fnames:\n",
    "    src = os.path.join(original_dataset_dir, fname)\n",
    "    dst = os.path.join(train_cats_dir, fname)\n",
    "    shutil.copyfile(src, dst)\n",
    "    \n",
    "fnames = ['cat.{}.jpg'.format(i) for i in range(1000, 1500)]\n",
    "for fname in fnames:\n",
    "    src = os.path.join(original_dataset_dir, fname)\n",
    "    dst = os.path.join(validation_cats_dir, fname)\n",
    "    shutil.copyfile(src, dst)\n",
    "    \n",
    "fnames = ['cat.{}.jpg'.format(i) for i in range(1500, 2000)]\n",
    "for fname in fnames:\n",
    "    src = os.path.join(original_dataset_dir, fname)\n",
    "    dst = os.path.join(test_cats_dir, fname)\n",
    "    shutil.copyfile(src, dst)\n",
    "\n",
    "fnames = ['dog.{}.jpg'.format(i) for i in range(1000)]\n",
    "for fname in fnames:\n",
    "    src = os.path.join(original_dataset_dir, fname)\n",
    "    dst = os.path.join(train_dogs_dir, fname)\n",
    "    shutil.copyfile(src, dst)\n",
    "    \n",
    "fnames = ['dog.{}.jpg'.format(i) for i in range(1000, 1500)]\n",
    "for fname in fnames:\n",
    "    src = os.path.join(original_dataset_dir, fname)\n",
    "    dst = os.path.join(validation_dogs_dir, fname)\n",
    "    shutil.copyfile(src, dst)\n",
    "    \n",
    "fnames = ['dog.{}.jpg'.format(i) for i in range(1500, 2000)]\n",
    "for fname in fnames:\n",
    "    src = os.path.join(original_dataset_dir, fname)\n",
    "    dst = os.path.join(test_dogs_dir, fname)\n",
    "    shutil.copyfile(src, dst)"
   ]
  },
  {
   "cell_type": "code",
   "execution_count": 8,
   "metadata": {},
   "outputs": [
    {
     "name": "stdout",
     "output_type": "stream",
     "text": [
      "total training cat images: 1000\n",
      "total training dog images: 1000\n",
      "total validation cat images: 500\n",
      "total validation dog images: 500\n",
      "total test cat images: 500\n",
      "total test dog images: 500\n"
     ]
    }
   ],
   "source": [
    "# Show files in directories\n",
    "print('total training cat images:', len(os.listdir(train_cats_dir)))\n",
    "\n",
    "print('total training dog images:', len(os.listdir(train_dogs_dir)))\n",
    "\n",
    "print('total validation cat images:', len(os.listdir(validation_cats_dir)))\n",
    "\n",
    "print('total validation dog images:', len(os.listdir(validation_dogs_dir)))\n",
    "\n",
    "print('total test cat images:', len(os.listdir(test_cats_dir)))\n",
    "\n",
    "print('total test dog images:', len(os.listdir(test_dogs_dir)))"
   ]
  },
  {
   "cell_type": "markdown",
   "metadata": {},
   "source": [
    "### Building the model"
   ]
  },
  {
   "cell_type": "code",
   "execution_count": 10,
   "metadata": {},
   "outputs": [
    {
     "name": "stdout",
     "output_type": "stream",
     "text": [
      "_________________________________________________________________\n",
      "Layer (type)                 Output Shape              Param #   \n",
      "=================================================================\n",
      "conv2d_5 (Conv2D)            (None, 148, 148, 32)      896       \n",
      "_________________________________________________________________\n",
      "max_pooling2d_5 (MaxPooling2 (None, 74, 74, 32)        0         \n",
      "_________________________________________________________________\n",
      "conv2d_6 (Conv2D)            (None, 72, 72, 64)        18496     \n",
      "_________________________________________________________________\n",
      "max_pooling2d_6 (MaxPooling2 (None, 36, 36, 64)        0         \n",
      "_________________________________________________________________\n",
      "conv2d_7 (Conv2D)            (None, 34, 34, 128)       73856     \n",
      "_________________________________________________________________\n",
      "max_pooling2d_7 (MaxPooling2 (None, 17, 17, 128)       0         \n",
      "_________________________________________________________________\n",
      "conv2d_8 (Conv2D)            (None, 15, 15, 128)       147584    \n",
      "_________________________________________________________________\n",
      "max_pooling2d_8 (MaxPooling2 (None, 7, 7, 128)         0         \n",
      "_________________________________________________________________\n",
      "flatten_2 (Flatten)          (None, 6272)              0         \n",
      "_________________________________________________________________\n",
      "dense_3 (Dense)              (None, 512)               3211776   \n",
      "_________________________________________________________________\n",
      "dense_4 (Dense)              (None, 1)                 513       \n",
      "=================================================================\n",
      "Total params: 3,453,121\n",
      "Trainable params: 3,453,121\n",
      "Non-trainable params: 0\n",
      "_________________________________________________________________\n"
     ]
    }
   ],
   "source": [
    "from keras import layers\n",
    "from keras import models\n",
    "\n",
    "model = models.Sequential()\n",
    "\n",
    "model.add(layers.Conv2D(32, (3, 3), activation='relu', input_shape=(150, 150, 3)))\n",
    "model.add(layers.MaxPooling2D((2, 2)))\n",
    "\n",
    "model.add(layers.Conv2D(64, (3, 3), activation='relu'))\n",
    "model.add(layers.MaxPooling2D((2, 2)))\n",
    "\n",
    "model.add(layers.Conv2D(128, (3, 3), activation='relu'))\n",
    "model.add(layers.MaxPooling2D((2, 2)))\n",
    "\n",
    "model.add(layers.Conv2D(128, (3, 3), activation='relu'))\n",
    "model.add(layers.MaxPooling2D((2, 2)))\n",
    "\n",
    "model.add(layers.Flatten())\n",
    "model.add(layers.Dense(512, activation='relu'))\n",
    "model.add(layers.Dense(1, activation='sigmoid'))\n",
    "\n",
    "model.summary()"
   ]
  },
  {
   "cell_type": "code",
   "execution_count": 11,
   "metadata": {},
   "outputs": [],
   "source": [
    "from keras import optimizers\n",
    "\n",
    "model.compile(loss='binary_crossentropy',\n",
    "              optimizer=optimizers.RMSprop(lr=1e-4),\n",
    "              metrics=['acc'])"
   ]
  },
  {
   "cell_type": "markdown",
   "metadata": {},
   "source": [
    "### Data preprocessing"
   ]
  },
  {
   "cell_type": "code",
   "execution_count": 12,
   "metadata": {},
   "outputs": [
    {
     "name": "stdout",
     "output_type": "stream",
     "text": [
      "Found 2000 images belonging to 2 classes.\n",
      "Found 1000 images belonging to 2 classes.\n"
     ]
    }
   ],
   "source": [
    "from keras.preprocessing.image import ImageDataGenerator\n",
    "\n",
    "train_datagen = ImageDataGenerator(rescale=1./255)\n",
    "test_datagen = ImageDataGenerator(rescale=1./255)\n",
    "\n",
    "train_generator = train_datagen.flow_from_directory(train_dir, \n",
    "                                                    target_size=(150, 150), \n",
    "                                                    batch_size=20, \n",
    "                                                    class_mode='binary')\n",
    "\n",
    "validation_generator = test_datagen.flow_from_directory( validation_dir, \n",
    "                                                        target_size=(150, 150), \n",
    "                                                        batch_size=20, \n",
    "                                                        class_mode='binary')"
   ]
  },
  {
   "cell_type": "code",
   "execution_count": 13,
   "metadata": {},
   "outputs": [
    {
     "name": "stdout",
     "output_type": "stream",
     "text": [
      "data batch shape: (20, 150, 150, 3)\n",
      "labels batch shape: (20,)\n"
     ]
    }
   ],
   "source": [
    "for data_batch, labels_batch in train_generator:\n",
    "    print('data batch shape:', data_batch.shape)\n",
    "    print('labels batch shape:', labels_batch.shape)\n",
    "    break"
   ]
  },
  {
   "cell_type": "code",
   "execution_count": 14,
   "metadata": {},
   "outputs": [
    {
     "name": "stdout",
     "output_type": "stream",
     "text": [
      "WARNING:tensorflow:From C:\\Users\\Ahmad\\Anaconda3\\lib\\site-packages\\tensorflow\\python\\ops\\math_ops.py:3066: to_int32 (from tensorflow.python.ops.math_ops) is deprecated and will be removed in a future version.\n",
      "Instructions for updating:\n",
      "Use tf.cast instead.\n",
      "Epoch 1/30\n",
      "100/100 [==============================] - 176s 2s/step - loss: 0.6874 - acc: 0.5370 - val_loss: 0.6980 - val_acc: 0.5290\n",
      "Epoch 2/30\n",
      "100/100 [==============================] - 212s 2s/step - loss: 0.6543 - acc: 0.6150 - val_loss: 0.6284 - val_acc: 0.6490\n",
      "Epoch 3/30\n",
      "100/100 [==============================] - 175s 2s/step - loss: 0.6013 - acc: 0.6790 - val_loss: 0.6250 - val_acc: 0.6540\n",
      "Epoch 4/30\n",
      "100/100 [==============================] - 177s 2s/step - loss: 0.5675 - acc: 0.7110 - val_loss: 0.6264 - val_acc: 0.6550\n",
      "Epoch 5/30\n",
      "100/100 [==============================] - 167s 2s/step - loss: 0.5320 - acc: 0.7365 - val_loss: 0.5962 - val_acc: 0.6670\n",
      "Epoch 6/30\n",
      "100/100 [==============================] - 181s 2s/step - loss: 0.5074 - acc: 0.7430 - val_loss: 0.5672 - val_acc: 0.7100\n",
      "Epoch 7/30\n",
      "100/100 [==============================] - 182s 2s/step - loss: 0.4738 - acc: 0.7755 - val_loss: 0.5691 - val_acc: 0.6910\n",
      "Epoch 8/30\n",
      "100/100 [==============================] - 164s 2s/step - loss: 0.4491 - acc: 0.7960 - val_loss: 0.5587 - val_acc: 0.7080\n",
      "Epoch 9/30\n",
      "100/100 [==============================] - 161s 2s/step - loss: 0.4128 - acc: 0.8070 - val_loss: 0.6422 - val_acc: 0.6890\n",
      "Epoch 10/30\n",
      "100/100 [==============================] - 161s 2s/step - loss: 0.3892 - acc: 0.8395 - val_loss: 0.5730 - val_acc: 0.7240\n",
      "Epoch 11/30\n",
      "100/100 [==============================] - 159s 2s/step - loss: 0.3625 - acc: 0.8440 - val_loss: 0.6321 - val_acc: 0.7000\n",
      "Epoch 12/30\n",
      "100/100 [==============================] - 160s 2s/step - loss: 0.3485 - acc: 0.8560 - val_loss: 0.5486 - val_acc: 0.7300\n",
      "Epoch 13/30\n",
      "100/100 [==============================] - 159s 2s/step - loss: 0.3007 - acc: 0.8780 - val_loss: 0.6016 - val_acc: 0.7180\n",
      "Epoch 14/30\n",
      "100/100 [==============================] - 159s 2s/step - loss: 0.2835 - acc: 0.8885 - val_loss: 0.6148 - val_acc: 0.7200\n",
      "Epoch 15/30\n",
      "100/100 [==============================] - 159s 2s/step - loss: 0.2562 - acc: 0.9025 - val_loss: 0.5869 - val_acc: 0.7300\n",
      "Epoch 16/30\n",
      "100/100 [==============================] - 158s 2s/step - loss: 0.2371 - acc: 0.9070 - val_loss: 0.6150 - val_acc: 0.7320\n",
      "Epoch 17/30\n",
      "100/100 [==============================] - 158s 2s/step - loss: 0.2119 - acc: 0.9155 - val_loss: 0.6415 - val_acc: 0.7400\n",
      "Epoch 18/30\n",
      "100/100 [==============================] - 162s 2s/step - loss: 0.1866 - acc: 0.9375 - val_loss: 0.6601 - val_acc: 0.7280\n",
      "Epoch 19/30\n",
      "100/100 [==============================] - 161s 2s/step - loss: 0.1776 - acc: 0.9360 - val_loss: 0.6697 - val_acc: 0.7380\n",
      "Epoch 20/30\n",
      "100/100 [==============================] - 159s 2s/step - loss: 0.1514 - acc: 0.9475 - val_loss: 0.7164 - val_acc: 0.7180\n",
      "Epoch 21/30\n",
      "100/100 [==============================] - 160s 2s/step - loss: 0.1354 - acc: 0.9545 - val_loss: 0.7304 - val_acc: 0.7270\n",
      "Epoch 22/30\n",
      "100/100 [==============================] - 165s 2s/step - loss: 0.1174 - acc: 0.9600 - val_loss: 0.7248 - val_acc: 0.7320\n",
      "Epoch 23/30\n",
      "100/100 [==============================] - 168s 2s/step - loss: 0.0971 - acc: 0.9685 - val_loss: 0.7840 - val_acc: 0.7250\n",
      "Epoch 24/30\n",
      "100/100 [==============================] - 162s 2s/step - loss: 0.0865 - acc: 0.9750 - val_loss: 0.7896 - val_acc: 0.7410\n",
      "Epoch 25/30\n",
      "100/100 [==============================] - 160s 2s/step - loss: 0.0737 - acc: 0.9795 - val_loss: 0.8109 - val_acc: 0.7340\n",
      "Epoch 26/30\n",
      "100/100 [==============================] - 167s 2s/step - loss: 0.0604 - acc: 0.9835 - val_loss: 0.8356 - val_acc: 0.7310\n",
      "Epoch 27/30\n",
      "100/100 [==============================] - 249s 2s/step - loss: 0.0537 - acc: 0.9850 - val_loss: 0.9051 - val_acc: 0.7360\n",
      "Epoch 28/30\n",
      "100/100 [==============================] - 212s 2s/step - loss: 0.0420 - acc: 0.9905 - val_loss: 1.0122 - val_acc: 0.7250\n",
      "Epoch 29/30\n",
      "100/100 [==============================] - 255s 3s/step - loss: 0.0445 - acc: 0.9890 - val_loss: 1.0933 - val_acc: 0.7150\n",
      "Epoch 30/30\n",
      "100/100 [==============================] - 224s 2s/step - loss: 0.0318 - acc: 0.9950 - val_loss: 1.0684 - val_acc: 0.7140\n"
     ]
    }
   ],
   "source": [
    "history = model.fit_generator(\n",
    "    train_generator,\n",
    "    steps_per_epoch=100,\n",
    "    epochs=30,\n",
    "    validation_data=validation_generator,\n",
    "    validation_steps=50)"
   ]
  },
  {
   "cell_type": "code",
   "execution_count": 15,
   "metadata": {},
   "outputs": [],
   "source": [
    "model.save('cats_and_dogs_small_1.h5')"
   ]
  },
  {
   "cell_type": "markdown",
   "metadata": {},
   "source": [
    "### Plotting curves of loss and accuracy during training"
   ]
  },
  {
   "cell_type": "code",
   "execution_count": 17,
   "metadata": {},
   "outputs": [
    {
     "data": {
      "image/png": "[encoded data removed]",
      "text/plain": [
       "<Figure size 432x288 with 1 Axes>"
      ]
     },
     "metadata": {
      "needs_background": "light"
     },
     "output_type": "display_data"
    },
    {
     "data": {
      "image/png": "[encoded data removed]",
      "text/plain": [
       "<Figure size 432x288 with 1 Axes>"
      ]
     },
     "metadata": {
      "needs_background": "light"
     },
     "output_type": "display_data"
    }
   ],
   "source": [
    "import matplotlib.pyplot as plt\n",
    "\n",
    "acc = history.history['acc']\n",
    "val_acc = history.history['val_acc']\n",
    "\n",
    "loss = history.history['loss']\n",
    "val_loss = history.history['val_loss']\n",
    "\n",
    "epochs = range(1, len(acc) + 1)\n",
    "\n",
    "plt.plot(epochs, acc, 'bo', label='Training acc')\n",
    "plt.plot(epochs, val_acc, 'b', label='Validation acc')\n",
    "plt.title('Training and validation accuracy')\n",
    "plt.legend()\n",
    "plt.figure()\n",
    "\n",
    "plt.plot(epochs, loss, 'bo', label='Training loss')\n",
    "plt.plot(epochs, val_loss, 'b', label='Validation loss')\n",
    "plt.title('Training and validation loss')\n",
    "plt.legend()\n",
    "\n",
    "plt.show()"
   ]
  },
  {
   "cell_type": "code",
   "execution_count": null,
   "metadata": {},
   "outputs": [],
   "source": []
  }
 ],
 "metadata": {
  "kernelspec": {
   "display_name": "Python 3",
   "language": "python",
   "name": "python3"
  },
  "language_info": {
   "codemirror_mode": {
    "name": "ipython",
    "version": 3
   },
   "file_extension": ".py",
   "mimetype": "text/x-python",
   "name": "python",
   "nbconvert_exporter": "python",
   "pygments_lexer": "ipython3",
   "version": "3.7.3"
  }
 },
 "nbformat": 4,
 "nbformat_minor": 2
}
